{
 "cells": [
  {
   "cell_type": "code",
   "execution_count": 1,
   "metadata": {},
   "outputs": [],
   "source": [
    "import pandas as pd\n",
    "import numpy as np\n",
    "import scipy\n",
    "import matplotlib.pyplot as plt\n",
    "import seaborn as sns; sns.set()"
   ]
  },
  {
   "cell_type": "code",
   "execution_count": 2,
   "metadata": {},
   "outputs": [],
   "source": [
    "pd.options.display.max_columns = 1000"
   ]
  },
  {
   "cell_type": "code",
   "execution_count": 3,
   "metadata": {},
   "outputs": [
    {
     "data": {
      "text/html": [
       "<div>\n",
       "<style scoped>\n",
       "    .dataframe tbody tr th:only-of-type {\n",
       "        vertical-align: middle;\n",
       "    }\n",
       "\n",
       "    .dataframe tbody tr th {\n",
       "        vertical-align: top;\n",
       "    }\n",
       "\n",
       "    .dataframe thead th {\n",
       "        text-align: right;\n",
       "    }\n",
       "</style>\n",
       "<table border=\"1\" class=\"dataframe\">\n",
       "  <thead>\n",
       "    <tr style=\"text-align: right;\">\n",
       "      <th></th>\n",
       "      <th>BPrev</th>\n",
       "      <th>BStreak</th>\n",
       "      <th>B_Age</th>\n",
       "      <th>B_Height</th>\n",
       "      <th>B_HomeTown</th>\n",
       "      <th>B_ID</th>\n",
       "      <th>B_Location</th>\n",
       "      <th>B_Name</th>\n",
       "      <th>B_Weight</th>\n",
       "      <th>Date</th>\n",
       "      <th>Event_ID</th>\n",
       "      <th>Fight_ID</th>\n",
       "      <th>Last_round</th>\n",
       "      <th>Max_round</th>\n",
       "      <th>RPrev</th>\n",
       "      <th>R_Age</th>\n",
       "      <th>R_Height</th>\n",
       "      <th>R_HomeTown</th>\n",
       "      <th>R_ID</th>\n",
       "      <th>R_Location</th>\n",
       "      <th>R_Name</th>\n",
       "      <th>R_Weight</th>\n",
       "      <th>winby</th>\n",
       "      <th>winner</th>\n",
       "      <th>avg_weight_lbs</th>\n",
       "      <th>weight_class</th>\n",
       "    </tr>\n",
       "  </thead>\n",
       "  <tbody>\n",
       "    <tr>\n",
       "      <th>0</th>\n",
       "      <td>0</td>\n",
       "      <td>0</td>\n",
       "      <td>38.0</td>\n",
       "      <td>193.0</td>\n",
       "      <td>Hounslow England</td>\n",
       "      <td>808</td>\n",
       "      <td>Amsterdam The Netherlands</td>\n",
       "      <td>Alistair Overeem</td>\n",
       "      <td>120.0</td>\n",
       "      <td>02/03/2014</td>\n",
       "      <td>646</td>\n",
       "      <td>4580</td>\n",
       "      <td>3</td>\n",
       "      <td>3</td>\n",
       "      <td>0</td>\n",
       "      <td>39.0</td>\n",
       "      <td>190.0</td>\n",
       "      <td>Las Vegas, Nevada USA</td>\n",
       "      <td>377</td>\n",
       "      <td>Las Vegas, Nevada USA</td>\n",
       "      <td>Frank Mir</td>\n",
       "      <td>119.0</td>\n",
       "      <td>DEC</td>\n",
       "      <td>blue</td>\n",
       "      <td>262.9</td>\n",
       "      <td>Cruiserweight</td>\n",
       "    </tr>\n",
       "    <tr>\n",
       "      <th>1</th>\n",
       "      <td>0</td>\n",
       "      <td>0</td>\n",
       "      <td>36.0</td>\n",
       "      <td>172.0</td>\n",
       "      <td>Chicago, Illinois United States</td>\n",
       "      <td>1054</td>\n",
       "      <td>Chicago, Illinois United States</td>\n",
       "      <td>Ricardo Lamas</td>\n",
       "      <td>65.0</td>\n",
       "      <td>02/03/2014</td>\n",
       "      <td>646</td>\n",
       "      <td>4589</td>\n",
       "      <td>5</td>\n",
       "      <td>5</td>\n",
       "      <td>0</td>\n",
       "      <td>32.0</td>\n",
       "      <td>170.0</td>\n",
       "      <td>Manaus Brazil</td>\n",
       "      <td>1052</td>\n",
       "      <td>Rio de Janeiro Brazil</td>\n",
       "      <td>Jose Aldo</td>\n",
       "      <td>65.0</td>\n",
       "      <td>DEC</td>\n",
       "      <td>red</td>\n",
       "      <td>143.0</td>\n",
       "      <td>Bantamweight</td>\n",
       "    </tr>\n",
       "    <tr>\n",
       "      <th>2</th>\n",
       "      <td>0</td>\n",
       "      <td>0</td>\n",
       "      <td>39.0</td>\n",
       "      <td>167.0</td>\n",
       "      <td>Isla Vista , California USA</td>\n",
       "      <td>959</td>\n",
       "      <td>Sacramento, California USA</td>\n",
       "      <td>Urijah Faber</td>\n",
       "      <td>61.0</td>\n",
       "      <td>02/03/2014</td>\n",
       "      <td>646</td>\n",
       "      <td>4590</td>\n",
       "      <td>1</td>\n",
       "      <td>5</td>\n",
       "      <td>0</td>\n",
       "      <td>31.0</td>\n",
       "      <td>167.0</td>\n",
       "      <td>Natal Brazil</td>\n",
       "      <td>1527</td>\n",
       "      <td>Rio de Janeiro Brazil</td>\n",
       "      <td>Renan Barao</td>\n",
       "      <td>61.0</td>\n",
       "      <td>KO/TKO</td>\n",
       "      <td>red</td>\n",
       "      <td>134.2</td>\n",
       "      <td>Flyweight</td>\n",
       "    </tr>\n",
       "    <tr>\n",
       "      <th>3</th>\n",
       "      <td>0</td>\n",
       "      <td>0</td>\n",
       "      <td>33.0</td>\n",
       "      <td>167.0</td>\n",
       "      <td>San Diego, CA USA</td>\n",
       "      <td>1056</td>\n",
       "      <td>San Diego, CA USA</td>\n",
       "      <td>Danny Martinez</td>\n",
       "      <td>56.0</td>\n",
       "      <td>02/03/2014</td>\n",
       "      <td>646</td>\n",
       "      <td>4605</td>\n",
       "      <td>3</td>\n",
       "      <td>3</td>\n",
       "      <td>0</td>\n",
       "      <td>37.0</td>\n",
       "      <td>160.0</td>\n",
       "      <td>San Jose, California USA</td>\n",
       "      <td>1253</td>\n",
       "      <td>Tucson, Arizona USA</td>\n",
       "      <td>Chris Cariaso</td>\n",
       "      <td>56.0</td>\n",
       "      <td>DEC</td>\n",
       "      <td>red</td>\n",
       "      <td>123.2</td>\n",
       "      <td>Strawwweight</td>\n",
       "    </tr>\n",
       "    <tr>\n",
       "      <th>4</th>\n",
       "      <td>0</td>\n",
       "      <td>0</td>\n",
       "      <td>36.0</td>\n",
       "      <td>185.0</td>\n",
       "      <td>Southampton England</td>\n",
       "      <td>2005</td>\n",
       "      <td>Southampton England</td>\n",
       "      <td>Tom Watson</td>\n",
       "      <td>84.0</td>\n",
       "      <td>02/03/2014</td>\n",
       "      <td>646</td>\n",
       "      <td>4631</td>\n",
       "      <td>3</td>\n",
       "      <td>3</td>\n",
       "      <td>0</td>\n",
       "      <td>37.0</td>\n",
       "      <td>182.0</td>\n",
       "      <td>Englewood, NJ USA</td>\n",
       "      <td>464</td>\n",
       "      <td>Brick, NJ USA</td>\n",
       "      <td>Nick Catone</td>\n",
       "      <td>84.0</td>\n",
       "      <td>DEC</td>\n",
       "      <td>red</td>\n",
       "      <td>184.8</td>\n",
       "      <td>Super Welterweight</td>\n",
       "    </tr>\n",
       "  </tbody>\n",
       "</table>\n",
       "</div>"
      ],
      "text/plain": [
       "   BPrev  BStreak  B_Age  B_Height                       B_HomeTown  B_ID  \\\n",
       "0      0        0   38.0     193.0                 Hounslow England   808   \n",
       "1      0        0   36.0     172.0  Chicago, Illinois United States  1054   \n",
       "2      0        0   39.0     167.0      Isla Vista , California USA   959   \n",
       "3      0        0   33.0     167.0                San Diego, CA USA  1056   \n",
       "4      0        0   36.0     185.0              Southampton England  2005   \n",
       "\n",
       "                        B_Location            B_Name  B_Weight        Date  \\\n",
       "0        Amsterdam The Netherlands  Alistair Overeem     120.0  02/03/2014   \n",
       "1  Chicago, Illinois United States     Ricardo Lamas      65.0  02/03/2014   \n",
       "2       Sacramento, California USA      Urijah Faber      61.0  02/03/2014   \n",
       "3                San Diego, CA USA    Danny Martinez      56.0  02/03/2014   \n",
       "4              Southampton England        Tom Watson      84.0  02/03/2014   \n",
       "\n",
       "   Event_ID  Fight_ID  Last_round  Max_round  RPrev  R_Age  R_Height  \\\n",
       "0       646      4580           3          3      0   39.0     190.0   \n",
       "1       646      4589           5          5      0   32.0     170.0   \n",
       "2       646      4590           1          5      0   31.0     167.0   \n",
       "3       646      4605           3          3      0   37.0     160.0   \n",
       "4       646      4631           3          3      0   37.0     182.0   \n",
       "\n",
       "                 R_HomeTown  R_ID             R_Location         R_Name  \\\n",
       "0     Las Vegas, Nevada USA   377  Las Vegas, Nevada USA      Frank Mir   \n",
       "1             Manaus Brazil  1052  Rio de Janeiro Brazil      Jose Aldo   \n",
       "2              Natal Brazil  1527  Rio de Janeiro Brazil    Renan Barao   \n",
       "3  San Jose, California USA  1253    Tucson, Arizona USA  Chris Cariaso   \n",
       "4         Englewood, NJ USA   464          Brick, NJ USA    Nick Catone   \n",
       "\n",
       "   R_Weight   winby winner  avg_weight_lbs        weight_class  \n",
       "0     119.0     DEC   blue           262.9       Cruiserweight  \n",
       "1      65.0     DEC    red           143.0        Bantamweight  \n",
       "2      61.0  KO/TKO    red           134.2           Flyweight  \n",
       "3      56.0     DEC    red           123.2        Strawwweight  \n",
       "4      84.0     DEC    red           184.8  Super Welterweight  "
      ]
     },
     "execution_count": 3,
     "metadata": {},
     "output_type": "execute_result"
    }
   ],
   "source": [
    "df = pd.read_csv('clean_fights')\n",
    "df.head()"
   ]
  },
  {
   "cell_type": "code",
   "execution_count": 4,
   "metadata": {},
   "outputs": [
    {
     "data": {
      "image/png": "[encoded data removed]",
      "text/plain": [
       "<Figure size 1080x720 with 16 Axes>"
      ]
     },
     "metadata": {
      "needs_background": "light"
     },
     "output_type": "display_data"
    }
   ],
   "source": [
    "df.hist(figsize=(15, 10));"
   ]
  },
  {
   "cell_type": "code",
   "execution_count": 5,
   "metadata": {},
   "outputs": [
    {
     "data": {
      "text/plain": [
       "BPrev               int64\n",
       "BStreak             int64\n",
       "B_Age             float64\n",
       "B_Height          float64\n",
       "B_HomeTown         object\n",
       "B_ID                int64\n",
       "B_Location         object\n",
       "B_Name             object\n",
       "B_Weight          float64\n",
       "Date               object\n",
       "Event_ID            int64\n",
       "Fight_ID            int64\n",
       "Last_round          int64\n",
       "Max_round           int64\n",
       "RPrev               int64\n",
       "R_Age             float64\n",
       "R_Height          float64\n",
       "R_HomeTown         object\n",
       "R_ID                int64\n",
       "R_Location         object\n",
       "R_Name             object\n",
       "R_Weight          float64\n",
       "winby              object\n",
       "winner             object\n",
       "avg_weight_lbs    float64\n",
       "weight_class       object\n",
       "dtype: object"
      ]
     },
     "execution_count": 5,
     "metadata": {},
     "output_type": "execute_result"
    }
   ],
   "source": [
    "df.dtypes"
   ]
  },
  {
   "cell_type": "code",
   "execution_count": 6,
   "metadata": {},
   "outputs": [
    {
     "data": {
      "text/plain": [
       "(2233, 26)"
      ]
     },
     "execution_count": 6,
     "metadata": {},
     "output_type": "execute_result"
    }
   ],
   "source": [
    "df.shape"
   ]
  },
  {
   "cell_type": "code",
   "execution_count": 7,
   "metadata": {},
   "outputs": [],
   "source": [
    "en_winner = [1 if x=='blue' else 0 for x in df.winner]\n",
    "df['en_winner'] = en_winner"
   ]
  },
  {
   "cell_type": "code",
   "execution_count": 8,
   "metadata": {},
   "outputs": [],
   "source": [
    "columns = ['BPrev', 'BStreak', 'B_Age', 'B_Height', 'B_Weight', 'Last_round', 'Max_round', 'RPrev', \n",
    "           'R_Age', 'R_Height', 'R_Weight']"
   ]
  },
  {
   "cell_type": "code",
   "execution_count": 9,
   "metadata": {},
   "outputs": [],
   "source": [
    "from sklearn.model_selection import train_test_split\n",
    "X_train, X_test, y_train, y_test = train_test_split(df[columns], df['en_winner'], test_size=0.25)"
   ]
  },
  {
   "cell_type": "code",
   "execution_count": 10,
   "metadata": {},
   "outputs": [
    {
     "name": "stderr",
     "output_type": "stream",
     "text": [
      "C:\\Users\\Patrick\\Anaconda3\\lib\\site-packages\\sklearn\\svm\\base.py:196: FutureWarning: The default value of gamma will change from 'auto' to 'scale' in version 0.22 to account better for unscaled features. Set gamma explicitly to 'auto' or 'scale' to avoid this warning.\n",
      "  \"avoid this warning.\", FutureWarning)\n"
     ]
    },
    {
     "data": {
      "text/plain": [
       "SVC(C=1.0, cache_size=200, class_weight=None, coef0=0.0,\n",
       "  decision_function_shape='ovr', degree=10, gamma='auto_deprecated',\n",
       "  kernel='poly', max_iter=-1, probability=False, random_state=None,\n",
       "  shrinking=True, tol=0.001, verbose=False)"
      ]
     },
     "execution_count": 10,
     "metadata": {},
     "output_type": "execute_result"
    }
   ],
   "source": [
    "from sklearn.svm import SVC\n",
    "model = SVC(kernel='poly', degree=10)\n",
    "model.fit(X_train, y_train)"
   ]
  },
  {
   "cell_type": "code",
   "execution_count": 11,
   "metadata": {},
   "outputs": [
    {
     "name": "stderr",
     "output_type": "stream",
     "text": [
      "C:\\Users\\Patrick\\Anaconda3\\lib\\site-packages\\xgboost\\core.py:587: FutureWarning: Series.base is deprecated and will be removed in a future version\n",
      "  if getattr(data, 'base', None) is not None and \\\n"
     ]
    }
   ],
   "source": [
    "import xgboost as xgb\n",
    "D_train = xgb.DMatrix(X_train, label=y_train)\n",
    "D_test = xgb.DMatrix(X_test, label=y_test)\n",
    "\n",
    "param = {\n",
    "    'eta': 0.3,\n",
    "    'max_depth': 3,\n",
    "    'objective': 'multi:softprob',\n",
    "    'num_class': 2\n",
    "}\n",
    "\n",
    "steps = 20 # Then number of training iterations "
   ]
  },
  {
   "cell_type": "code",
   "execution_count": 12,
   "metadata": {},
   "outputs": [],
   "source": [
    "model = xgb.train(param, D_train, steps)\n",
    "y_pred = model.predict(D_test)"
   ]
  },
  {
   "cell_type": "code",
   "execution_count": 13,
   "metadata": {},
   "outputs": [
    {
     "name": "stdout",
     "output_type": "stream",
     "text": [
      "Precision = 0.5696805452903013\n",
      "Recall = 0.5450347646090972\n",
      "Accuracy = 0.6010733452593918\n"
     ]
    }
   ],
   "source": [
    "from sklearn.metrics import accuracy_score, confusion_matrix, recall_score, precision_score\n",
    "best_preds = np.asarray([np.argmax(line) for line in y_pred])\n",
    "print(\"Precision = {}\".format(precision_score(y_test, best_preds, average='macro')))\n",
    "print(\"Recall = {}\".format(recall_score(y_test, best_preds, average='macro')))\n",
    "print(\"Accuracy = {}\".format(accuracy_score(y_test, best_preds)))"
   ]
  },
  {
   "cell_type": "code",
   "execution_count": 14,
   "metadata": {},
   "outputs": [
    {
     "ename": "AttributeError",
     "evalue": "'DataFrame' object has no attribute 'feature_names'",
     "output_type": "error",
     "traceback": [
      "\u001b[1;31m---------------------------------------------------------------------------\u001b[0m",
      "\u001b[1;31mAttributeError\u001b[0m                            Traceback (most recent call last)",
      "\u001b[1;32m<ipython-input-14-2ea016e285d1>\u001b[0m in \u001b[0;36m<module>\u001b[1;34m\u001b[0m\n\u001b[1;32m----> 1\u001b[1;33m \u001b[0mpreds\u001b[0m \u001b[1;33m=\u001b[0m \u001b[0mmodel\u001b[0m\u001b[1;33m.\u001b[0m\u001b[0mpredict\u001b[0m\u001b[1;33m(\u001b[0m\u001b[0mX_test\u001b[0m\u001b[1;33m)\u001b[0m\u001b[1;33m\u001b[0m\u001b[1;33m\u001b[0m\u001b[0m\n\u001b[0m\u001b[0;32m      2\u001b[0m \u001b[0maccuracy_score\u001b[0m\u001b[1;33m(\u001b[0m\u001b[0my_test\u001b[0m\u001b[1;33m,\u001b[0m \u001b[0mpreds\u001b[0m\u001b[1;33m)\u001b[0m\u001b[1;33m\u001b[0m\u001b[1;33m\u001b[0m\u001b[0m\n",
      "\u001b[1;32m~\\Anaconda3\\lib\\site-packages\\xgboost\\core.py\u001b[0m in \u001b[0;36mpredict\u001b[1;34m(self, data, output_margin, ntree_limit, pred_leaf, pred_contribs, approx_contribs, pred_interactions, validate_features)\u001b[0m\n\u001b[0;32m   1282\u001b[0m \u001b[1;33m\u001b[0m\u001b[0m\n\u001b[0;32m   1283\u001b[0m         \u001b[1;32mif\u001b[0m \u001b[0mvalidate_features\u001b[0m\u001b[1;33m:\u001b[0m\u001b[1;33m\u001b[0m\u001b[1;33m\u001b[0m\u001b[0m\n\u001b[1;32m-> 1284\u001b[1;33m             \u001b[0mself\u001b[0m\u001b[1;33m.\u001b[0m\u001b[0m_validate_features\u001b[0m\u001b[1;33m(\u001b[0m\u001b[0mdata\u001b[0m\u001b[1;33m)\u001b[0m\u001b[1;33m\u001b[0m\u001b[1;33m\u001b[0m\u001b[0m\n\u001b[0m\u001b[0;32m   1285\u001b[0m \u001b[1;33m\u001b[0m\u001b[0m\n\u001b[0;32m   1286\u001b[0m         \u001b[0mlength\u001b[0m \u001b[1;33m=\u001b[0m \u001b[0mc_bst_ulong\u001b[0m\u001b[1;33m(\u001b[0m\u001b[1;33m)\u001b[0m\u001b[1;33m\u001b[0m\u001b[1;33m\u001b[0m\u001b[0m\n",
      "\u001b[1;32m~\\Anaconda3\\lib\\site-packages\\xgboost\\core.py\u001b[0m in \u001b[0;36m_validate_features\u001b[1;34m(self, data)\u001b[0m\n\u001b[0;32m   1673\u001b[0m         \u001b[1;32melse\u001b[0m\u001b[1;33m:\u001b[0m\u001b[1;33m\u001b[0m\u001b[1;33m\u001b[0m\u001b[0m\n\u001b[0;32m   1674\u001b[0m             \u001b[1;31m# Booster can't accept data with different feature names\u001b[0m\u001b[1;33m\u001b[0m\u001b[1;33m\u001b[0m\u001b[1;33m\u001b[0m\u001b[0m\n\u001b[1;32m-> 1675\u001b[1;33m             \u001b[1;32mif\u001b[0m \u001b[0mself\u001b[0m\u001b[1;33m.\u001b[0m\u001b[0mfeature_names\u001b[0m \u001b[1;33m!=\u001b[0m \u001b[0mdata\u001b[0m\u001b[1;33m.\u001b[0m\u001b[0mfeature_names\u001b[0m\u001b[1;33m:\u001b[0m\u001b[1;33m\u001b[0m\u001b[1;33m\u001b[0m\u001b[0m\n\u001b[0m\u001b[0;32m   1676\u001b[0m                 \u001b[0mdat_missing\u001b[0m \u001b[1;33m=\u001b[0m \u001b[0mset\u001b[0m\u001b[1;33m(\u001b[0m\u001b[0mself\u001b[0m\u001b[1;33m.\u001b[0m\u001b[0mfeature_names\u001b[0m\u001b[1;33m)\u001b[0m \u001b[1;33m-\u001b[0m \u001b[0mset\u001b[0m\u001b[1;33m(\u001b[0m\u001b[0mdata\u001b[0m\u001b[1;33m.\u001b[0m\u001b[0mfeature_names\u001b[0m\u001b[1;33m)\u001b[0m\u001b[1;33m\u001b[0m\u001b[1;33m\u001b[0m\u001b[0m\n\u001b[0;32m   1677\u001b[0m                 \u001b[0mmy_missing\u001b[0m \u001b[1;33m=\u001b[0m \u001b[0mset\u001b[0m\u001b[1;33m(\u001b[0m\u001b[0mdata\u001b[0m\u001b[1;33m.\u001b[0m\u001b[0mfeature_names\u001b[0m\u001b[1;33m)\u001b[0m \u001b[1;33m-\u001b[0m \u001b[0mset\u001b[0m\u001b[1;33m(\u001b[0m\u001b[0mself\u001b[0m\u001b[1;33m.\u001b[0m\u001b[0mfeature_names\u001b[0m\u001b[1;33m)\u001b[0m\u001b[1;33m\u001b[0m\u001b[1;33m\u001b[0m\u001b[0m\n",
      "\u001b[1;32m~\\Anaconda3\\lib\\site-packages\\pandas\\core\\generic.py\u001b[0m in \u001b[0;36m__getattr__\u001b[1;34m(self, name)\u001b[0m\n\u001b[0;32m   5065\u001b[0m             \u001b[1;32mif\u001b[0m \u001b[0mself\u001b[0m\u001b[1;33m.\u001b[0m\u001b[0m_info_axis\u001b[0m\u001b[1;33m.\u001b[0m\u001b[0m_can_hold_identifiers_and_holds_name\u001b[0m\u001b[1;33m(\u001b[0m\u001b[0mname\u001b[0m\u001b[1;33m)\u001b[0m\u001b[1;33m:\u001b[0m\u001b[1;33m\u001b[0m\u001b[1;33m\u001b[0m\u001b[0m\n\u001b[0;32m   5066\u001b[0m                 \u001b[1;32mreturn\u001b[0m \u001b[0mself\u001b[0m\u001b[1;33m[\u001b[0m\u001b[0mname\u001b[0m\u001b[1;33m]\u001b[0m\u001b[1;33m\u001b[0m\u001b[1;33m\u001b[0m\u001b[0m\n\u001b[1;32m-> 5067\u001b[1;33m             \u001b[1;32mreturn\u001b[0m \u001b[0mobject\u001b[0m\u001b[1;33m.\u001b[0m\u001b[0m__getattribute__\u001b[0m\u001b[1;33m(\u001b[0m\u001b[0mself\u001b[0m\u001b[1;33m,\u001b[0m \u001b[0mname\u001b[0m\u001b[1;33m)\u001b[0m\u001b[1;33m\u001b[0m\u001b[1;33m\u001b[0m\u001b[0m\n\u001b[0m\u001b[0;32m   5068\u001b[0m \u001b[1;33m\u001b[0m\u001b[0m\n\u001b[0;32m   5069\u001b[0m     \u001b[1;32mdef\u001b[0m \u001b[0m__setattr__\u001b[0m\u001b[1;33m(\u001b[0m\u001b[0mself\u001b[0m\u001b[1;33m,\u001b[0m \u001b[0mname\u001b[0m\u001b[1;33m,\u001b[0m \u001b[0mvalue\u001b[0m\u001b[1;33m)\u001b[0m\u001b[1;33m:\u001b[0m\u001b[1;33m\u001b[0m\u001b[1;33m\u001b[0m\u001b[0m\n",
      "\u001b[1;31mAttributeError\u001b[0m: 'DataFrame' object has no attribute 'feature_names'"
     ]
    }
   ],
   "source": [
    "preds = model.predict(X_test)\n",
    "accuracy_score(y_test, preds)"
   ]
  },
  {
   "cell_type": "code",
   "execution_count": null,
   "metadata": {},
   "outputs": [],
   "source": []
  }
 ],
 "metadata": {
  "kernelspec": {
   "display_name": "Python 3",
   "language": "python",
   "name": "python3"
  },
  "language_info": {
   "codemirror_mode": {
    "name": "ipython",
    "version": 3
   },
   "file_extension": ".py",
   "mimetype": "text/x-python",
   "name": "python",
   "nbconvert_exporter": "python",
   "pygments_lexer": "ipython3",
   "version": "3.7.3"
  }
 },
 "nbformat": 4,
 "nbformat_minor": 2
}
