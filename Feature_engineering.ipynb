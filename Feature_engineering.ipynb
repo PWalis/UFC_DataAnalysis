{
 "cells": [
  {
   "cell_type": "code",
   "execution_count": 1,
   "metadata": {},
   "outputs": [],
   "source": [
    "import pandas as pd\n",
    "import numpy as np"
   ]
  },
  {
   "cell_type": "code",
   "execution_count": 5,
   "metadata": {},
   "outputs": [],
   "source": [
    "pd.options.display.max_columns = 500"
   ]
  },
  {
   "cell_type": "markdown",
   "metadata": {},
   "source": [
    "# Feature Egineering \n",
    "### - Create time from last fight\n",
    "### - ordinal encode Max_round\n",
    "### - HomeTown will be logitude latitude \n",
    "### - Vectorize Name might help "
   ]
  },
  {
   "cell_type": "code",
   "execution_count": 6,
   "metadata": {},
   "outputs": [
    {
     "data": {
      "text/html": [
       "<div>\n",
       "<style scoped>\n",
       "    .dataframe tbody tr th:only-of-type {\n",
       "        vertical-align: middle;\n",
       "    }\n",
       "\n",
       "    .dataframe tbody tr th {\n",
       "        vertical-align: top;\n",
       "    }\n",
       "\n",
       "    .dataframe thead th {\n",
       "        text-align: right;\n",
       "    }\n",
       "</style>\n",
       "<table border=\"1\" class=\"dataframe\">\n",
       "  <thead>\n",
       "    <tr style=\"text-align: right;\">\n",
       "      <th></th>\n",
       "      <th>BPrev</th>\n",
       "      <th>BStreak</th>\n",
       "      <th>B_Age</th>\n",
       "      <th>B_Height</th>\n",
       "      <th>B_HomeTown</th>\n",
       "      <th>B_ID</th>\n",
       "      <th>B_Location</th>\n",
       "      <th>B_Name</th>\n",
       "      <th>B_Weight</th>\n",
       "      <th>Date</th>\n",
       "      <th>Event_ID</th>\n",
       "      <th>Fight_ID</th>\n",
       "      <th>Last_round</th>\n",
       "      <th>Max_round</th>\n",
       "      <th>RPrev</th>\n",
       "      <th>R_Age</th>\n",
       "      <th>R_Height</th>\n",
       "      <th>R_HomeTown</th>\n",
       "      <th>R_ID</th>\n",
       "      <th>R_Location</th>\n",
       "      <th>R_Name</th>\n",
       "      <th>R_Weight</th>\n",
       "      <th>winby</th>\n",
       "      <th>winner</th>\n",
       "      <th>avg_weight_lbs</th>\n",
       "      <th>weight_class</th>\n",
       "    </tr>\n",
       "  </thead>\n",
       "  <tbody>\n",
       "    <tr>\n",
       "      <th>0</th>\n",
       "      <td>0</td>\n",
       "      <td>0</td>\n",
       "      <td>38.0</td>\n",
       "      <td>193.0</td>\n",
       "      <td>Hounslow England</td>\n",
       "      <td>808</td>\n",
       "      <td>Amsterdam The Netherlands</td>\n",
       "      <td>Alistair Overeem</td>\n",
       "      <td>120.0</td>\n",
       "      <td>02/03/2014</td>\n",
       "      <td>646</td>\n",
       "      <td>4580</td>\n",
       "      <td>3</td>\n",
       "      <td>3</td>\n",
       "      <td>0</td>\n",
       "      <td>39.0</td>\n",
       "      <td>190.0</td>\n",
       "      <td>Las Vegas, Nevada USA</td>\n",
       "      <td>377</td>\n",
       "      <td>Las Vegas, Nevada USA</td>\n",
       "      <td>Frank Mir</td>\n",
       "      <td>119.0</td>\n",
       "      <td>DEC</td>\n",
       "      <td>blue</td>\n",
       "      <td>262.9</td>\n",
       "      <td>Cruiserweight</td>\n",
       "    </tr>\n",
       "    <tr>\n",
       "      <th>1</th>\n",
       "      <td>0</td>\n",
       "      <td>0</td>\n",
       "      <td>36.0</td>\n",
       "      <td>172.0</td>\n",
       "      <td>Chicago, Illinois United States</td>\n",
       "      <td>1054</td>\n",
       "      <td>Chicago, Illinois United States</td>\n",
       "      <td>Ricardo Lamas</td>\n",
       "      <td>65.0</td>\n",
       "      <td>02/03/2014</td>\n",
       "      <td>646</td>\n",
       "      <td>4589</td>\n",
       "      <td>5</td>\n",
       "      <td>5</td>\n",
       "      <td>0</td>\n",
       "      <td>32.0</td>\n",
       "      <td>170.0</td>\n",
       "      <td>Manaus Brazil</td>\n",
       "      <td>1052</td>\n",
       "      <td>Rio de Janeiro Brazil</td>\n",
       "      <td>Jose Aldo</td>\n",
       "      <td>65.0</td>\n",
       "      <td>DEC</td>\n",
       "      <td>red</td>\n",
       "      <td>143.0</td>\n",
       "      <td>Bantamweight</td>\n",
       "    </tr>\n",
       "    <tr>\n",
       "      <th>2</th>\n",
       "      <td>0</td>\n",
       "      <td>0</td>\n",
       "      <td>39.0</td>\n",
       "      <td>167.0</td>\n",
       "      <td>Isla Vista , California USA</td>\n",
       "      <td>959</td>\n",
       "      <td>Sacramento, California USA</td>\n",
       "      <td>Urijah Faber</td>\n",
       "      <td>61.0</td>\n",
       "      <td>02/03/2014</td>\n",
       "      <td>646</td>\n",
       "      <td>4590</td>\n",
       "      <td>1</td>\n",
       "      <td>5</td>\n",
       "      <td>0</td>\n",
       "      <td>31.0</td>\n",
       "      <td>167.0</td>\n",
       "      <td>Natal Brazil</td>\n",
       "      <td>1527</td>\n",
       "      <td>Rio de Janeiro Brazil</td>\n",
       "      <td>Renan Barao</td>\n",
       "      <td>61.0</td>\n",
       "      <td>KO/TKO</td>\n",
       "      <td>red</td>\n",
       "      <td>134.2</td>\n",
       "      <td>Flyweight</td>\n",
       "    </tr>\n",
       "    <tr>\n",
       "      <th>3</th>\n",
       "      <td>0</td>\n",
       "      <td>0</td>\n",
       "      <td>33.0</td>\n",
       "      <td>167.0</td>\n",
       "      <td>San Diego, CA USA</td>\n",
       "      <td>1056</td>\n",
       "      <td>San Diego, CA USA</td>\n",
       "      <td>Danny Martinez</td>\n",
       "      <td>56.0</td>\n",
       "      <td>02/03/2014</td>\n",
       "      <td>646</td>\n",
       "      <td>4605</td>\n",
       "      <td>3</td>\n",
       "      <td>3</td>\n",
       "      <td>0</td>\n",
       "      <td>37.0</td>\n",
       "      <td>160.0</td>\n",
       "      <td>San Jose, California USA</td>\n",
       "      <td>1253</td>\n",
       "      <td>Tucson, Arizona USA</td>\n",
       "      <td>Chris Cariaso</td>\n",
       "      <td>56.0</td>\n",
       "      <td>DEC</td>\n",
       "      <td>red</td>\n",
       "      <td>123.2</td>\n",
       "      <td>Strawwweight</td>\n",
       "    </tr>\n",
       "    <tr>\n",
       "      <th>4</th>\n",
       "      <td>0</td>\n",
       "      <td>0</td>\n",
       "      <td>36.0</td>\n",
       "      <td>185.0</td>\n",
       "      <td>Southampton England</td>\n",
       "      <td>2005</td>\n",
       "      <td>Southampton England</td>\n",
       "      <td>Tom Watson</td>\n",
       "      <td>84.0</td>\n",
       "      <td>02/03/2014</td>\n",
       "      <td>646</td>\n",
       "      <td>4631</td>\n",
       "      <td>3</td>\n",
       "      <td>3</td>\n",
       "      <td>0</td>\n",
       "      <td>37.0</td>\n",
       "      <td>182.0</td>\n",
       "      <td>Englewood, NJ USA</td>\n",
       "      <td>464</td>\n",
       "      <td>Brick, NJ USA</td>\n",
       "      <td>Nick Catone</td>\n",
       "      <td>84.0</td>\n",
       "      <td>DEC</td>\n",
       "      <td>red</td>\n",
       "      <td>184.8</td>\n",
       "      <td>Super Welterweight</td>\n",
       "    </tr>\n",
       "  </tbody>\n",
       "</table>\n",
       "</div>"
      ],
      "text/plain": [
       "   BPrev  BStreak  B_Age  B_Height                       B_HomeTown  B_ID  \\\n",
       "0      0        0   38.0     193.0                 Hounslow England   808   \n",
       "1      0        0   36.0     172.0  Chicago, Illinois United States  1054   \n",
       "2      0        0   39.0     167.0      Isla Vista , California USA   959   \n",
       "3      0        0   33.0     167.0                San Diego, CA USA  1056   \n",
       "4      0        0   36.0     185.0              Southampton England  2005   \n",
       "\n",
       "                        B_Location            B_Name  B_Weight        Date  \\\n",
       "0        Amsterdam The Netherlands  Alistair Overeem     120.0  02/03/2014   \n",
       "1  Chicago, Illinois United States     Ricardo Lamas      65.0  02/03/2014   \n",
       "2       Sacramento, California USA      Urijah Faber      61.0  02/03/2014   \n",
       "3                San Diego, CA USA    Danny Martinez      56.0  02/03/2014   \n",
       "4              Southampton England        Tom Watson      84.0  02/03/2014   \n",
       "\n",
       "   Event_ID  Fight_ID  Last_round  Max_round  RPrev  R_Age  R_Height  \\\n",
       "0       646      4580           3          3      0   39.0     190.0   \n",
       "1       646      4589           5          5      0   32.0     170.0   \n",
       "2       646      4590           1          5      0   31.0     167.0   \n",
       "3       646      4605           3          3      0   37.0     160.0   \n",
       "4       646      4631           3          3      0   37.0     182.0   \n",
       "\n",
       "                 R_HomeTown  R_ID             R_Location         R_Name  \\\n",
       "0     Las Vegas, Nevada USA   377  Las Vegas, Nevada USA      Frank Mir   \n",
       "1             Manaus Brazil  1052  Rio de Janeiro Brazil      Jose Aldo   \n",
       "2              Natal Brazil  1527  Rio de Janeiro Brazil    Renan Barao   \n",
       "3  San Jose, California USA  1253    Tucson, Arizona USA  Chris Cariaso   \n",
       "4         Englewood, NJ USA   464          Brick, NJ USA    Nick Catone   \n",
       "\n",
       "   R_Weight   winby winner  avg_weight_lbs        weight_class  \n",
       "0     119.0     DEC   blue           262.9       Cruiserweight  \n",
       "1      65.0     DEC    red           143.0        Bantamweight  \n",
       "2      61.0  KO/TKO    red           134.2           Flyweight  \n",
       "3      56.0     DEC    red           123.2        Strawwweight  \n",
       "4      84.0     DEC    red           184.8  Super Welterweight  "
      ]
     },
     "execution_count": 6,
     "metadata": {},
     "output_type": "execute_result"
    }
   ],
   "source": [
    "df = pd.read_csv('clean_fights')\n",
    "df.head()"
   ]
  },
  {
   "cell_type": "markdown",
   "metadata": {},
   "source": [
    "## Use Geopy to add longitude and latitude based off HomeTown"
   ]
  },
  {
   "cell_type": "code",
   "execution_count": null,
   "metadata": {},
   "outputs": [],
   "source": [
    "from geopy import geocoders\n",
    "gn = geocoders.GeoNames(username='pwalis')\n",
    "location = gn.geocode('phoenix, AZ')"
   ]
  },
  {
   "cell_type": "code",
   "execution_count": 46,
   "metadata": {},
   "outputs": [
    {
     "ename": "TypeError",
     "evalue": "unhashable type: 'list'",
     "output_type": "error",
     "traceback": [
      "\u001b[1;31m---------------------------------------------------------------------------\u001b[0m",
      "\u001b[1;31mTypeError\u001b[0m                                 Traceback (most recent call last)",
      "\u001b[1;32m<ipython-input-46-31803dc5396f>\u001b[0m in \u001b[0;36m<module>\u001b[1;34m\u001b[0m\n\u001b[0;32m      2\u001b[0m \u001b[0mgeolocator\u001b[0m \u001b[1;33m=\u001b[0m \u001b[0mNominatim\u001b[0m\u001b[1;33m(\u001b[0m\u001b[0muser_agent\u001b[0m\u001b[1;33m=\u001b[0m\u001b[1;34m'pwalis'\u001b[0m\u001b[1;33m)\u001b[0m\u001b[1;33m\u001b[0m\u001b[1;33m\u001b[0m\u001b[0m\n\u001b[0;32m      3\u001b[0m \u001b[0mlocation\u001b[0m \u001b[1;33m=\u001b[0m \u001b[0mgeolocator\u001b[0m\u001b[1;33m.\u001b[0m\u001b[0mgeocode\u001b[0m\u001b[1;33m(\u001b[0m\u001b[1;34m\"Chicago Illinois\"\u001b[0m\u001b[1;33m,\u001b[0m \u001b[0maddressdetails\u001b[0m\u001b[1;33m=\u001b[0m\u001b[1;32mTrue\u001b[0m\u001b[1;33m)\u001b[0m\u001b[1;33m.\u001b[0m\u001b[0mraw\u001b[0m\u001b[1;33m\u001b[0m\u001b[1;33m\u001b[0m\u001b[0m\n\u001b[1;32m----> 4\u001b[1;33m \u001b[0mlocation\u001b[0m\u001b[1;33m.\u001b[0m\u001b[0mget\u001b[0m\u001b[1;33m(\u001b[0m\u001b[1;33m[\u001b[0m\u001b[1;34m'lat'\u001b[0m\u001b[1;33m,\u001b[0m \u001b[1;34m'lon'\u001b[0m\u001b[1;33m]\u001b[0m\u001b[1;33m)\u001b[0m\u001b[1;33m\u001b[0m\u001b[1;33m\u001b[0m\u001b[0m\n\u001b[0m",
      "\u001b[1;31mTypeError\u001b[0m: unhashable type: 'list'"
     ]
    }
   ],
   "source": [
    "from geopy.geocoders import Nominatim\n",
    "geolocator = Nominatim(user_agent='pwalis')\n",
    "location = geolocator.geocode(\"Chicago Illinois\", addressdetails=True).raw\n"
   ]
  },
  {
   "cell_type": "code",
   "execution_count": 37,
   "metadata": {},
   "outputs": [
    {
     "data": {
      "text/plain": [
       "{'place_id': 235244846,\n",
       " 'licence': 'Data © OpenStreetMap contributors, ODbL 1.0. https://osm.org/copyright',\n",
       " 'osm_type': 'relation',\n",
       " 'osm_id': 122604,\n",
       " 'boundingbox': ['41.644531', '42.0230396', '-87.940101', '-87.5240812'],\n",
       " 'lat': '41.8755616',\n",
       " 'lon': '-87.6244212',\n",
       " 'display_name': 'Chicago, Cook County, Illinois, United States of America',\n",
       " 'class': 'place',\n",
       " 'type': 'city',\n",
       " 'importance': 0.9715295727100248,\n",
       " 'icon': 'https://nominatim.openstreetmap.org/images/mapicons/poi_place_city.p.20.png'}"
      ]
     },
     "execution_count": 37,
     "metadata": {},
     "output_type": "execute_result"
    }
   ],
   "source": [
    "one = location\n",
    "one"
   ]
  },
  {
   "cell_type": "code",
   "execution_count": 54,
   "metadata": {},
   "outputs": [
    {
     "name": "stdout",
     "output_type": "stream",
     "text": [
      "0.046875\n"
     ]
    }
   ],
   "source": [
    "import time\n",
    "start = time.process_time()\n",
    "[geolocator.geocode(x) for x in df.R_HomeTown.head()]\n",
    "print(time.process_time() - start)"
   ]
  }
 ],
 "metadata": {
  "kernelspec": {
   "display_name": "Python 3",
   "language": "python",
   "name": "python3"
  },
  "language_info": {
   "codemirror_mode": {
    "name": "ipython",
    "version": 3
   },
   "file_extension": ".py",
   "mimetype": "text/x-python",
   "name": "python",
   "nbconvert_exporter": "python",
   "pygments_lexer": "ipython3",
   "version": "3.7.3"
  }
 },
 "nbformat": 4,
 "nbformat_minor": 2
}
